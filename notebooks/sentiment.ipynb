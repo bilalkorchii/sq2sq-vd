{
 "cells": [
  {
   "cell_type": "code",
   "execution_count": 4,
   "id": "037a9d37",
   "metadata": {},
   "outputs": [
    {
     "name": "stdout",
     "output_type": "stream",
     "text": [
      "Review: \"Prices ARE GOOD\"\n",
      "Sentiment: Positive (86.86%)\n",
      "Confidence: [#################---]\n"
     ]
    }
   ],
   "source": [
    "import tensorflow as tf\n",
    "from tensorflow.keras.preprocessing.sequence import pad_sequences\n",
    "from tensorflow.keras.preprocessing.text import text_to_word_sequence\n",
    "from tensorflow.keras.datasets import imdb\n",
    "\n",
    "max_features = 5000\n",
    "maxlen = 200\n",
    "\n",
    "word_index = imdb.get_word_index()\n",
    "word_index = {word: idx for word, idx in word_index.items() if idx < (max_features - 3)}\n",
    "best_model = tf.keras.models.load_model('mymodel.keras')\n",
    "\n",
    "def encode_review(text):\n",
    "    tokens = text_to_word_sequence(text)\n",
    "    encoded = []\n",
    "    for word in tokens:\n",
    "        idx = word_index.get(word, 2) + 3  # +3 offset for special tokens\n",
    "        if idx >= max_features:\n",
    "            idx = 2 + 3  # unknown token\n",
    "        encoded.append(idx)\n",
    "    return pad_sequences([encoded], maxlen=maxlen, padding='post')\n",
    "\n",
    "new_review = \"Prices ARE GOOD\"\n",
    "encoded_review = encode_review(new_review)\n",
    "prediction = best_model.predict(encoded_review, verbose=0)[0][0]\n",
    "\n",
    "confidence = prediction * 100\n",
    "sentiment = \"Positive\" if prediction >= 0.5 else \"Negative\"\n",
    "bar_length = int(confidence // 5)\n",
    "\n",
    "print(f\"Review: \\\"{new_review}\\\"\")\n",
    "print(f\"Sentiment: {sentiment} ({confidence:.2f}%)\")\n",
    "print(\"Confidence: [\" + \"#\" * bar_length + \"-\" * (20 - bar_length) + \"]\")\n"
   ]
  },
  {
   "cell_type": "code",
   "execution_count": null,
   "id": "6883c3b1",
   "metadata": {},
   "outputs": [
    {
     "ename": "Error",
     "evalue": "ffmpeg error (see stderr output for detail)",
     "output_type": "error",
     "traceback": [
      "\u001b[1;31m---------------------------------------------------------------------------\u001b[0m",
      "\u001b[1;31mError\u001b[0m                                     Traceback (most recent call last)",
      "Cell \u001b[1;32mIn[7], line 3\u001b[0m\n\u001b[0;32m      1\u001b[0m \u001b[38;5;28;01mimport\u001b[39;00m \u001b[38;5;21;01mffmpeg\u001b[39;00m\n\u001b[1;32m----> 3\u001b[0m \u001b[43mffmpeg\u001b[49m\u001b[38;5;241;43m.\u001b[39;49m\u001b[43minput\u001b[49m\u001b[43m(\u001b[49m\u001b[38;5;124;43m\"\u001b[39;49m\u001b[38;5;124;43minput.mp4\u001b[39;49m\u001b[38;5;124;43m\"\u001b[39;49m\u001b[43m)\u001b[49m\u001b[38;5;241;43m.\u001b[39;49m\u001b[43moutput\u001b[49m\u001b[43m(\u001b[49m\u001b[38;5;124;43m\"\u001b[39;49m\u001b[38;5;124;43moutput.mp3\u001b[39;49m\u001b[38;5;124;43m\"\u001b[39;49m\u001b[43m)\u001b[49m\u001b[38;5;241;43m.\u001b[39;49m\u001b[43mrun\u001b[49m\u001b[43m(\u001b[49m\u001b[43m)\u001b[49m\n",
      "File \u001b[1;32mc:\\Users\\acer\\AppData\\Local\\Programs\\Python\\Python312\\Lib\\site-packages\\ffmpeg\\_run.py:325\u001b[0m, in \u001b[0;36mrun\u001b[1;34m(stream_spec, cmd, capture_stdout, capture_stderr, input, quiet, overwrite_output)\u001b[0m\n\u001b[0;32m    323\u001b[0m retcode \u001b[38;5;241m=\u001b[39m process\u001b[38;5;241m.\u001b[39mpoll()\n\u001b[0;32m    324\u001b[0m \u001b[38;5;28;01mif\u001b[39;00m retcode:\n\u001b[1;32m--> 325\u001b[0m     \u001b[38;5;28;01mraise\u001b[39;00m Error(\u001b[38;5;124m'\u001b[39m\u001b[38;5;124mffmpeg\u001b[39m\u001b[38;5;124m'\u001b[39m, out, err)\n\u001b[0;32m    326\u001b[0m \u001b[38;5;28;01mreturn\u001b[39;00m out, err\n",
      "\u001b[1;31mError\u001b[0m: ffmpeg error (see stderr output for detail)"
     ]
    }
   ],
   "source": [
    "import ffmpeg\n",
    "\n"
   ]
  }
 ],
 "metadata": {
  "kernelspec": {
   "display_name": "Python 3",
   "language": "python",
   "name": "python3"
  },
  "language_info": {
   "codemirror_mode": {
    "name": "ipython",
    "version": 3
   },
   "file_extension": ".py",
   "mimetype": "text/x-python",
   "name": "python",
   "nbconvert_exporter": "python",
   "pygments_lexer": "ipython3",
   "version": "3.12.4"
  }
 },
 "nbformat": 4,
 "nbformat_minor": 5
}
